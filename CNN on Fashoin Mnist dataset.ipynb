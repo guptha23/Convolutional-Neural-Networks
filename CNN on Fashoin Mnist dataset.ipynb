{
 "cells": [
  {
   "cell_type": "code",
   "execution_count": 1,
   "metadata": {},
   "outputs": [
    {
     "data": {
      "text/plain": [
       "'2.2.0-rc4'"
      ]
     },
     "execution_count": 1,
     "metadata": {},
     "output_type": "execute_result"
    }
   ],
   "source": [
    "import tensorflow as tf\n",
    "\n",
    "tf.__version__"
   ]
  },
  {
   "cell_type": "code",
   "execution_count": 2,
   "metadata": {},
   "outputs": [],
   "source": [
    "import pandas as pd\n",
    "import numpy as np"
   ]
  },
  {
   "cell_type": "code",
   "execution_count": 39,
   "metadata": {},
   "outputs": [],
   "source": [
    "from sklearn.metrics import confusion_matrix, accuracy_score, precision_score, classification_report\n",
    "def metrics(y_test, y_pred):\n",
    "    y_pred = y_pred.argmax(axis=1)\n",
    "    print(y_pred)\n",
    "    print(\"Accuracy Score : \", accuracy_score(y_test, y_pred))\n",
    "    print(\"Precision Score : \", precision_score(y_test, y_pred, average=\"weighted\"))\n",
    "    print(\"Classification Report : \\n\", classification_report(y_test, y_pred))\n",
    "    print(\"Confusion Matrix : \\n\", confusion_matrix(y_test, y_pred))"
   ]
  },
  {
   "cell_type": "markdown",
   "metadata": {},
   "source": [
    "<hr>\n",
    "\n",
    "## Load the data\n",
    "\n",
    "<hr>"
   ]
  },
  {
   "cell_type": "code",
   "execution_count": 3,
   "metadata": {},
   "outputs": [
    {
     "name": "stdout",
     "output_type": "stream",
     "text": [
      "X train shape : (60000, 28, 28)\n",
      "y train shape : (60000,)\n",
      "X test shape : (10000, 28, 28)\n",
      "y test shape : (10000,)\n"
     ]
    }
   ],
   "source": [
    "fashion_mnist = tf.keras.datasets.fashion_mnist\n",
    "\n",
    "(X_train, y_train), (X_test, y_test) = fashion_mnist.load_data()\n",
    "\n",
    "# Always a good idea to look at shape before getting started.\n",
    "print(f\"X train shape : {X_train.shape}\")\n",
    "print(f\"y train shape : {y_train.shape}\")\n",
    "print(f\"X test shape : {X_test.shape}\")\n",
    "print(f\"y test shape : {y_test.shape}\")"
   ]
  },
  {
   "cell_type": "markdown",
   "metadata": {},
   "source": [
    "##### Now, if we see training set contains 60000 samples. \n",
    "##### Testing set has 10000. \n",
    "##### As shape of each image is 28 * 28 pixels (picture element) --> can be interpreted as grayscale as no color layer is specified.\n",
    "\n",
    "##### In grayscale 255 --> white , 0 --> black and any other value --> shade of grey."
   ]
  },
  {
   "cell_type": "code",
   "execution_count": 4,
   "metadata": {},
   "outputs": [
    {
     "name": "stdout",
     "output_type": "stream",
     "text": [
      "<class 'numpy.ndarray'>\n"
     ]
    }
   ],
   "source": [
    "# All of the above are numpy arrays --> run much faster than python lists.\n",
    "# numpy is implemented in C.\n",
    "\n",
    "# tensorflow is named after \"tensor\" which is a generalised numpy array.\n",
    "\n",
    "print(type(X_train))"
   ]
  },
  {
   "cell_type": "code",
   "execution_count": 5,
   "metadata": {
    "scrolled": true
   },
   "outputs": [
    {
     "name": "stdout",
     "output_type": "stream",
     "text": [
      "New X_train shape : (60000, 28, 28, 1)\n",
      "New X_test shape : (10000, 28, 28, 1)\n"
     ]
    }
   ],
   "source": [
    "# Normalising values as gradient descent works better on small scale data.\n",
    "\n",
    "X_train , X_test = X_train/255, X_test/255\n",
    "\n",
    "# Converting input suitable to CNN architecture.\n",
    "\n",
    "X_train = np.reshape(X_train,newshape=(X_train.shape+(1,)))\n",
    "\n",
    "print(f\"New X_train shape : {X_train.shape}\")\n",
    "\n",
    "X_test = np.reshape(X_test, newshape=(X_test.shape[0], X_test.shape[1], X_test.shape[2], 1))\n",
    "\n",
    "print(f\"New X_test shape : {X_test.shape}\")"
   ]
  },
  {
   "cell_type": "markdown",
   "metadata": {},
   "source": [
    "##### Now, input is suitable for Convolutional neural network.\n",
    "##### Also, it is properly scaled for gradient descent"
   ]
  },
  {
   "cell_type": "code",
   "execution_count": 6,
   "metadata": {},
   "outputs": [
    {
     "name": "stdout",
     "output_type": "stream",
     "text": [
      "New shape of y_train (60000,)\n",
      "New shape of y_test (10000,)\n"
     ]
    }
   ],
   "source": [
    "# Trying to make output into proper format\n",
    "\n",
    "y_train, y_test = y_train.flatten(), y_test.flatten()\n",
    "\n",
    "print(f\"New shape of y_train {y_train.shape}\")\n",
    "print(f\"New shape of y_test {y_test.shape}\")"
   ]
  },
  {
   "cell_type": "code",
   "execution_count": 41,
   "metadata": {},
   "outputs": [],
   "source": [
    "# Label mapping\n",
    "labels = '''T-shirt/top\n",
    "Trouser\n",
    "Pullover\n",
    "Dress\n",
    "Coat\n",
    "Sandal\n",
    "Shirt\n",
    "Sneaker\n",
    "Bag\n",
    "Ankle boot'''.split(\"\\n\")"
   ]
  },
  {
   "cell_type": "code",
   "execution_count": 7,
   "metadata": {},
   "outputs": [
    {
     "name": "stdout",
     "output_type": "stream",
     "text": [
      "No. of classes : 10\n"
     ]
    }
   ],
   "source": [
    "# Getting number of classes\n",
    "K = len(set(y_train))\n",
    "print(f\"No. of classes : {K}\")"
   ]
  },
  {
   "cell_type": "markdown",
   "metadata": {},
   "source": [
    "<hr>\n",
    "\n",
    "## Building the model\n",
    "\n",
    "<hr>"
   ]
  },
  {
   "cell_type": "code",
   "execution_count": 8,
   "metadata": {},
   "outputs": [
    {
     "data": {
      "text/plain": [
       "(28, 28, 1)"
      ]
     },
     "execution_count": 8,
     "metadata": {},
     "output_type": "execute_result"
    }
   ],
   "source": [
    "X_train[0].shape"
   ]
  },
  {
   "cell_type": "code",
   "execution_count": 9,
   "metadata": {},
   "outputs": [],
   "source": [
    "# Buliding model using keras functional API.\n",
    "\n",
    "from tensorflow.keras.layers import Input, Conv2D, Flatten, Dense, Dropout\n",
    "from tensorflow.keras.models import Model\n",
    "\n",
    "\n",
    "input_shape = X_train[0].shape\n",
    "feature_map = [32, 64, 128]\n",
    "dense_size = [512]\n",
    "filter_size= (3,3)\n",
    "\n",
    "i = Input(shape=input_shape)\n",
    "x = Conv2D(filters=feature_map[0], kernel_size=filter_size, activation=\"relu\", strides=2)(i)\n",
    "x = Conv2D(filters=feature_map[1], kernel_size=filter_size, activation=\"relu\", strides=2)(x)\n",
    "x = Conv2D(filters=feature_map[2], kernel_size=filter_size, activation=\"relu\", strides=2)(x)\n",
    "\n",
    "# Dense layer takes flattened input\n",
    "x = Flatten()(x)\n",
    "\n",
    "# Building dense/ fully connected layers from here\n",
    "x = Dense(dense_size[0], activation=\"relu\")(x)\n",
    "x = Dense(K, activation=\"softmax\")(x)\n",
    "\n",
    "model = Model(i, x)"
   ]
  },
  {
   "cell_type": "code",
   "execution_count": 10,
   "metadata": {
    "scrolled": true
   },
   "outputs": [
    {
     "name": "stdout",
     "output_type": "stream",
     "text": [
      "Epoch 1/20\n",
      "1875/1875 [==============================] - 10s 5ms/step - loss: 0.4884 - accuracy: 0.8173 - val_loss: 0.3959 - val_accuracy: 0.8519\n",
      "Epoch 2/20\n",
      "1875/1875 [==============================] - 10s 5ms/step - loss: 0.3347 - accuracy: 0.8741 - val_loss: 0.3377 - val_accuracy: 0.8759\n",
      "Epoch 3/20\n",
      "1875/1875 [==============================] - 10s 5ms/step - loss: 0.2832 - accuracy: 0.8934 - val_loss: 0.3117 - val_accuracy: 0.8805\n",
      "Epoch 4/20\n",
      "1875/1875 [==============================] - 10s 5ms/step - loss: 0.2470 - accuracy: 0.9059 - val_loss: 0.3233 - val_accuracy: 0.8846\n",
      "Epoch 5/20\n",
      "1875/1875 [==============================] - 10s 5ms/step - loss: 0.2170 - accuracy: 0.9178 - val_loss: 0.3040 - val_accuracy: 0.8931\n",
      "Epoch 6/20\n",
      "1875/1875 [==============================] - 10s 5ms/step - loss: 0.1902 - accuracy: 0.9274 - val_loss: 0.3097 - val_accuracy: 0.8965\n",
      "Epoch 7/20\n",
      "1875/1875 [==============================] - 10s 5ms/step - loss: 0.1662 - accuracy: 0.9360 - val_loss: 0.3194 - val_accuracy: 0.8955\n",
      "Epoch 8/20\n",
      "1875/1875 [==============================] - 10s 5ms/step - loss: 0.1452 - accuracy: 0.9448 - val_loss: 0.3509 - val_accuracy: 0.8955\n",
      "Epoch 9/20\n",
      "1875/1875 [==============================] - 10s 5ms/step - loss: 0.1260 - accuracy: 0.9518 - val_loss: 0.3721 - val_accuracy: 0.8946\n",
      "Epoch 10/20\n",
      "1875/1875 [==============================] - 10s 5ms/step - loss: 0.1088 - accuracy: 0.9584 - val_loss: 0.4198 - val_accuracy: 0.8953\n",
      "Epoch 11/20\n",
      "1875/1875 [==============================] - 10s 5ms/step - loss: 0.0973 - accuracy: 0.9626 - val_loss: 0.4107 - val_accuracy: 0.8974\n",
      "Epoch 12/20\n",
      "1875/1875 [==============================] - 10s 5ms/step - loss: 0.0832 - accuracy: 0.9682 - val_loss: 0.4540 - val_accuracy: 0.8973\n",
      "Epoch 13/20\n",
      "1875/1875 [==============================] - 10s 5ms/step - loss: 0.0753 - accuracy: 0.9714 - val_loss: 0.5108 - val_accuracy: 0.8940\n",
      "Epoch 14/20\n",
      "1875/1875 [==============================] - 10s 5ms/step - loss: 0.0671 - accuracy: 0.9747 - val_loss: 0.4766 - val_accuracy: 0.8994\n",
      "Epoch 15/20\n",
      "1875/1875 [==============================] - 10s 5ms/step - loss: 0.0600 - accuracy: 0.9767 - val_loss: 0.5489 - val_accuracy: 0.8910\n",
      "Epoch 16/20\n",
      "1875/1875 [==============================] - 13s 7ms/step - loss: 0.0538 - accuracy: 0.9800 - val_loss: 0.5832 - val_accuracy: 0.8953\n",
      "Epoch 17/20\n",
      "1875/1875 [==============================] - 10s 6ms/step - loss: 0.0535 - accuracy: 0.9805 - val_loss: 0.5932 - val_accuracy: 0.8947\n",
      "Epoch 18/20\n",
      "1875/1875 [==============================] - 10s 6ms/step - loss: 0.0490 - accuracy: 0.9815 - val_loss: 0.6232 - val_accuracy: 0.8989\n",
      "Epoch 19/20\n",
      "1875/1875 [==============================] - 10s 5ms/step - loss: 0.0434 - accuracy: 0.9841 - val_loss: 0.6660 - val_accuracy: 0.8958\n",
      "Epoch 20/20\n",
      "1875/1875 [==============================] - 10s 6ms/step - loss: 0.0445 - accuracy: 0.9839 - val_loss: 0.6537 - val_accuracy: 0.8991\n"
     ]
    }
   ],
   "source": [
    "model.compile(optimizer=\"adam\", loss=\"sparse_categorical_crossentropy\", metrics=[\"accuracy\"])\n",
    "\n",
    "r = model.fit(X_train, y_train, validation_data=(X_test, y_test), epochs=20)"
   ]
  },
  {
   "cell_type": "markdown",
   "metadata": {},
   "source": [
    "##### Early Stopping --> Stop when loss of test dataset increases"
   ]
  },
  {
   "cell_type": "markdown",
   "metadata": {},
   "source": [
    "<hr>\n",
    "\n",
    "## Visualsing results of model\n",
    "\n",
    "<hr>"
   ]
  },
  {
   "cell_type": "code",
   "execution_count": 11,
   "metadata": {},
   "outputs": [
    {
     "data": {
      "text/plain": [
       "dict_keys(['loss', 'accuracy', 'val_loss', 'val_accuracy'])"
      ]
     },
     "execution_count": 11,
     "metadata": {},
     "output_type": "execute_result"
    }
   ],
   "source": [
    "r.history.keys()"
   ]
  },
  {
   "cell_type": "code",
   "execution_count": 17,
   "metadata": {},
   "outputs": [
    {
     "data": {
      "text/plain": [
       "Text(0.5, 0, 'No. of epochs')"
      ]
     },
     "execution_count": 17,
     "metadata": {},
     "output_type": "execute_result"
    },
    {
     "data": {
      "image/png": "[encoded data removed]",
      "text/plain": [
       "<Figure size 432x288 with 1 Axes>"
      ]
     },
     "metadata": {
      "needs_background": "light"
     },
     "output_type": "display_data"
    }
   ],
   "source": [
    "import matplotlib.pyplot as plt\n",
    "\n",
    "plt.plot(r.history[\"accuracy\"], label=\"Accuracy\")\n",
    "plt.plot(r.history[\"val_accuracy\"], label=\"Validation Acc.\")\n",
    "plt.legend()\n",
    "plt.xlabel(\"No. of epochs\")\n",
    "plt.ylabel(\"Accuracy\")"
   ]
  },
  {
   "cell_type": "code",
   "execution_count": 18,
   "metadata": {},
   "outputs": [
    {
     "data": {
      "text/plain": [
       "<matplotlib.legend.Legend at 0x14ee31be0>"
      ]
     },
     "execution_count": 18,
     "metadata": {},
     "output_type": "execute_result"
    },
    {
     "data": {
      "image/png": "[encoded data removed]",
      "text/plain": [
       "<Figure size 432x288 with 1 Axes>"
      ]
     },
     "metadata": {
      "needs_background": "light"
     },
     "output_type": "display_data"
    }
   ],
   "source": [
    "import matplotlib.pyplot as plt\n",
    "\n",
    "plt.plot(r.history[\"loss\"], label=\"Loss\")\n",
    "plt.plot(r.history[\"val_loss\"], label=\"Validation Loss\")\n",
    "plt.legend()"
   ]
  },
  {
   "cell_type": "markdown",
   "metadata": {},
   "source": [
    "### If we observe above model is clearly overfitting. \n",
    "#### We can regularize by providing it with Dropout or some kernel l2 regularizer."
   ]
  },
  {
   "cell_type": "code",
   "execution_count": 19,
   "metadata": {},
   "outputs": [],
   "source": [
    "i = Input(shape=(X_train[0].shape))\n",
    "x = Conv2D(32, (3,3), strides=2, activation=\"relu\")(i)\n",
    "x = Conv2D(64, (3,3), strides=2, activation=\"relu\")(x)\n",
    "x = Conv2D(128, (3,3), strides=2, activation=\"relu\")(x)\n",
    "\n",
    "x = Flatten()(x)\n",
    "\n",
    "x = Dropout(0.2)(x)\n",
    "x = Dense(128, activation=\"relu\")(x)\n",
    "x = Dropout(0.2)(x)\n",
    "x = Dense(K, activation=\"softmax\")(x)\n",
    "\n",
    "model = Model(i,x)"
   ]
  },
  {
   "cell_type": "code",
   "execution_count": 20,
   "metadata": {},
   "outputs": [
    {
     "name": "stdout",
     "output_type": "stream",
     "text": [
      "Epoch 1/5\n",
      "1875/1875 [==============================] - 8s 4ms/step - loss: 0.5525 - accuracy: 0.7971 - val_loss: 0.4237 - val_accuracy: 0.8425\n",
      "Epoch 2/5\n",
      "1875/1875 [==============================] - 9s 5ms/step - loss: 0.3791 - accuracy: 0.8582 - val_loss: 0.3602 - val_accuracy: 0.8695\n",
      "Epoch 3/5\n",
      "1875/1875 [==============================] - 8s 4ms/step - loss: 0.3287 - accuracy: 0.8768 - val_loss: 0.3345 - val_accuracy: 0.8740\n",
      "Epoch 4/5\n",
      "1875/1875 [==============================] - 9s 5ms/step - loss: 0.2977 - accuracy: 0.8883 - val_loss: 0.3193 - val_accuracy: 0.8849\n",
      "Epoch 5/5\n",
      "1875/1875 [==============================] - 8s 4ms/step - loss: 0.2704 - accuracy: 0.8995 - val_loss: 0.3059 - val_accuracy: 0.8879\n"
     ]
    }
   ],
   "source": [
    "model.compile(optimizer=\"adam\", loss=\"sparse_categorical_crossentropy\", metrics=[\"accuracy\"])\n",
    "\n",
    "r = model.fit(X_train, y_train, validation_data=(X_test, y_test), epochs=5)"
   ]
  },
  {
   "cell_type": "code",
   "execution_count": 21,
   "metadata": {},
   "outputs": [
    {
     "data": {
      "text/plain": [
       "Text(0, 0.5, 'Accuracy')"
      ]
     },
     "execution_count": 21,
     "metadata": {},
     "output_type": "execute_result"
    },
    {
     "data": {
      "image/png": "[encoded data removed]",
      "text/plain": [
       "<Figure size 432x288 with 1 Axes>"
      ]
     },
     "metadata": {
      "needs_background": "light"
     },
     "output_type": "display_data"
    }
   ],
   "source": [
    "import matplotlib.pyplot as plt\n",
    "\n",
    "plt.plot(r.history[\"accuracy\"], label=\"Accuracy\")\n",
    "plt.plot(r.history[\"val_accuracy\"], label=\"Validation Acc.\")\n",
    "plt.legend()\n",
    "plt.xlabel(\"No. of epochs\")\n",
    "plt.ylabel(\"Accuracy\")"
   ]
  },
  {
   "cell_type": "code",
   "execution_count": 22,
   "metadata": {},
   "outputs": [
    {
     "data": {
      "text/plain": [
       "<matplotlib.legend.Legend at 0x13806c400>"
      ]
     },
     "execution_count": 22,
     "metadata": {},
     "output_type": "execute_result"
    },
    {
     "data": {
      "image/png": "[encoded data removed]",
      "text/plain": [
       "<Figure size 432x288 with 1 Axes>"
      ]
     },
     "metadata": {
      "needs_background": "light"
     },
     "output_type": "display_data"
    }
   ],
   "source": [
    "import matplotlib.pyplot as plt\n",
    "\n",
    "plt.plot(r.history[\"loss\"], label=\"Loss\")\n",
    "plt.plot(r.history[\"val_loss\"], label=\"Validation Loss\")\n",
    "plt.legend()"
   ]
  },
  {
   "cell_type": "code",
   "execution_count": 40,
   "metadata": {},
   "outputs": [
    {
     "name": "stdout",
     "output_type": "stream",
     "text": [
      "[9 2 1 ... 8 1 5]\n",
      "Accuracy Score :  0.8879\n",
      "Precision Score :  0.8889139490184038\n",
      "Classification Report :                precision    recall  f1-score   support\n",
      "\n",
      "           0       0.84      0.86      0.85      1000\n",
      "           1       0.99      0.97      0.98      1000\n",
      "           2       0.81      0.83      0.82      1000\n",
      "           3       0.89      0.90      0.90      1000\n",
      "           4       0.84      0.77      0.81      1000\n",
      "           5       0.99      0.96      0.97      1000\n",
      "           6       0.66      0.69      0.67      1000\n",
      "           7       0.95      0.96      0.95      1000\n",
      "           8       0.97      0.97      0.97      1000\n",
      "           9       0.95      0.97      0.96      1000\n",
      "\n",
      "    accuracy                           0.89     10000\n",
      "   macro avg       0.89      0.89      0.89     10000\n",
      "weighted avg       0.89      0.89      0.89     10000\n",
      "\n",
      "Confusion Matrix : \n",
      " [[858   1  24  14   1   1  96   0   5   0]\n",
      " [  1 968   1  20   2   0   7   0   1   0]\n",
      " [ 12   2 833  10  47   0  93   0   3   0]\n",
      " [ 23   3  17 900  24   0  31   0   2   0]\n",
      " [  0   1  74  36 774   0 113   0   2   0]\n",
      " [  0   0   0   2   0 960   0  24   2  12]\n",
      " [127   0  80  25  65   0 685   0  18   0]\n",
      " [  0   0   0   0   0   5   0 958   0  37]\n",
      " [  1   0   4   4   4   4   6   3 974   0]\n",
      " [  0   0   0   0   0   3   1  27   0 969]]\n"
     ]
    }
   ],
   "source": [
    "y_pred = model.predict(X_test)\n",
    "metrics(y_test, y_pred)"
   ]
  },
  {
   "cell_type": "markdown",
   "metadata": {},
   "source": [
    "<hr>\n",
    "\n",
    "# Misclassified points\n",
    "\n",
    "<hr>"
   ]
  },
  {
   "cell_type": "code",
   "execution_count": 45,
   "metadata": {},
   "outputs": [
    {
     "data": {
      "text/plain": [
       "array([  21,   23,   25, ..., 9972, 9977, 9991])"
      ]
     },
     "execution_count": 45,
     "metadata": {},
     "output_type": "execute_result"
    }
   ],
   "source": [
    "misclassified_index = np.where(y_pred.argmax(axis=1) != y_test)\n",
    "X_test = X_test * 255\n",
    "misclassified_index[0]"
   ]
  },
  {
   "cell_type": "code",
   "execution_count": 51,
   "metadata": {},
   "outputs": [
    {
     "data": {
      "image/png": "[encoded data removed]",
      "text/plain": [
       "<Figure size 432x288 with 1 Axes>"
      ]
     },
     "metadata": {
      "needs_background": "light"
     },
     "output_type": "display_data"
    }
   ],
   "source": [
    "i = np.random.choice(misclassified_index[0])\n",
    "plt.imshow(X_test[i].reshape(28,28), cmap='gray')\n",
    "plt.title(\"True label: %s Predicted: %s\" % (labels[y_test[i]], labels[y_pred.argmax(axis=1)[i]]));"
   ]
  }
 ],
 "metadata": {
  "kernelspec": {
   "display_name": "Python 3",
   "language": "python",
   "name": "python3"
  },
  "language_info": {
   "codemirror_mode": {
    "name": "ipython",
    "version": 3
   },
   "file_extension": ".py",
   "mimetype": "text/x-python",
   "name": "python",
   "nbconvert_exporter": "python",
   "pygments_lexer": "ipython3",
   "version": "3.8.1"
  }
 },
 "nbformat": 4,
 "nbformat_minor": 4
}
