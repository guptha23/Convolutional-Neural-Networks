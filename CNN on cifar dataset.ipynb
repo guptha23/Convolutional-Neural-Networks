{
 "cells": [
  {
   "cell_type": "code",
   "execution_count": 1,
   "metadata": {},
   "outputs": [
    {
     "data": {
      "text/plain": [
       "'2.2.0-rc4'"
      ]
     },
     "execution_count": 1,
     "metadata": {},
     "output_type": "execute_result"
    }
   ],
   "source": [
    "import tensorflow as tf\n",
    "\n",
    "tf.__version__"
   ]
  },
  {
   "cell_type": "code",
   "execution_count": 2,
   "metadata": {},
   "outputs": [],
   "source": [
    "import pandas as pd\n",
    "import numpy as np"
   ]
  },
  {
   "cell_type": "code",
   "execution_count": 3,
   "metadata": {},
   "outputs": [],
   "source": [
    "from sklearn.metrics import confusion_matrix, accuracy_score, precision_score, classification_report\n",
    "def metrics(y_test, y_pred):\n",
    "    y_pred = y_pred.argmax(axis=1)\n",
    "    print(y_pred)\n",
    "    print(\"Accuracy Score : \", accuracy_score(y_test, y_pred))\n",
    "    print(\"Precision Score : \", precision_score(y_test, y_pred, average=\"weighted\"))\n",
    "    print(\"Classification Report : \\n\", classification_report(y_test, y_pred))\n",
    "    print(\"Confusion Matrix : \\n\", confusion_matrix(y_test, y_pred))"
   ]
  },
  {
   "cell_type": "markdown",
   "metadata": {},
   "source": [
    "<hr>\n",
    "\n",
    "## Load the data\n",
    "\n",
    "<hr>"
   ]
  },
  {
   "cell_type": "code",
   "execution_count": 5,
   "metadata": {},
   "outputs": [
    {
     "name": "stdout",
     "output_type": "stream",
     "text": [
      "Downloading data from https://www.cs.toronto.edu/~kriz/cifar-10-python.tar.gz\n",
      "170500096/170498071 [==============================] - 324s 2us/step\n",
      "X train shape : (50000, 32, 32, 3)\n",
      "y train shape : (50000, 1)\n",
      "X test shape : (10000, 32, 32, 3)\n",
      "y test shape : (10000, 1)\n"
     ]
    }
   ],
   "source": [
    "cifar10 = tf.keras.datasets.cifar10\n",
    "\n",
    "(X_train, y_train), (X_test, y_test) = cifar10.load_data()\n",
    "\n",
    "# Always a good idea to look at shape before getting started.\n",
    "print(f\"X train shape : {X_train.shape}\")\n",
    "print(f\"y train shape : {y_train.shape}\")\n",
    "print(f\"X test shape : {X_test.shape}\")\n",
    "print(f\"y test shape : {y_test.shape}\")"
   ]
  },
  {
   "cell_type": "markdown",
   "metadata": {},
   "source": [
    "##### Input is in form accepted by CNN.\n",
    "##### Formatting data to adjust according to gradient descent."
   ]
  },
  {
   "cell_type": "code",
   "execution_count": 6,
   "metadata": {},
   "outputs": [],
   "source": [
    "X_train = X_train / 255\n",
    "X_test = X_test / 255"
   ]
  },
  {
   "cell_type": "markdown",
   "metadata": {},
   "source": [
    "<hr>\n",
    "\n",
    "## Build the model\n",
    "\n",
    "<hr>"
   ]
  },
  {
   "cell_type": "code",
   "execution_count": 14,
   "metadata": {},
   "outputs": [],
   "source": [
    "from tensorflow.keras.layers import Input, Conv2D, Flatten, Dense, Dropout, GlobalMaxPooling2D\n",
    "from tensorflow.keras.models import Model\n",
    "\n",
    "# Use Keras functional API\n",
    "i = Input(shape=X_train[0].shape)\n",
    "x = Conv2D(filters=32, kernel_size=(3,3), activation=\"relu\", strides=2)(i)\n",
    "x = Conv2D(filters=64, kernel_size=(3,3), activation=\"relu\", strides=2)(x)\n",
    "x = Conv2D(filters=128, kernel_size=(3,3), activation=\"relu\", strides=2)(x)\n",
    "\n",
    "# Flattening the input\n",
    "x = Flatten()(x)\n",
    "x = Dense(512, activation=\"relu\")(x)\n",
    "x = Dropout(0.2)(x)\n",
    "x = Dense(10, activation=\"softmax\")(x)\n",
    "\n",
    "model = Model(i, x)"
   ]
  },
  {
   "cell_type": "code",
   "execution_count": 15,
   "metadata": {},
   "outputs": [
    {
     "name": "stdout",
     "output_type": "stream",
     "text": [
      "Epoch 1/10\n",
      "1563/1563 [==============================] - 17s 11ms/step - loss: 1.4877 - accuracy: 0.4618 - val_loss: 1.2170 - val_accuracy: 0.5600\n",
      "Epoch 2/10\n",
      "1563/1563 [==============================] - 17s 11ms/step - loss: 1.1399 - accuracy: 0.5939 - val_loss: 1.0622 - val_accuracy: 0.6211\n",
      "Epoch 3/10\n",
      "1563/1563 [==============================] - 17s 11ms/step - loss: 0.9666 - accuracy: 0.6577 - val_loss: 0.9947 - val_accuracy: 0.6464\n",
      "Epoch 4/10\n",
      "1563/1563 [==============================] - 17s 11ms/step - loss: 0.8342 - accuracy: 0.7036 - val_loss: 0.9427 - val_accuracy: 0.6698\n",
      "Epoch 5/10\n",
      "1563/1563 [==============================] - 16s 10ms/step - loss: 0.7160 - accuracy: 0.7447 - val_loss: 0.9367 - val_accuracy: 0.6759\n",
      "Epoch 6/10\n",
      "1563/1563 [==============================] - 17s 11ms/step - loss: 0.6125 - accuracy: 0.7842 - val_loss: 0.9553 - val_accuracy: 0.6792\n",
      "Epoch 7/10\n",
      "1563/1563 [==============================] - 17s 11ms/step - loss: 0.5104 - accuracy: 0.8186 - val_loss: 0.9724 - val_accuracy: 0.6921\n",
      "Epoch 8/10\n",
      "1563/1563 [==============================] - 17s 11ms/step - loss: 0.4272 - accuracy: 0.8478 - val_loss: 1.0500 - val_accuracy: 0.6821\n",
      "Epoch 9/10\n",
      "1563/1563 [==============================] - 16s 10ms/step - loss: 0.3575 - accuracy: 0.8733 - val_loss: 1.1051 - val_accuracy: 0.6905\n",
      "Epoch 10/10\n",
      "1563/1563 [==============================] - 16s 11ms/step - loss: 0.3010 - accuracy: 0.8925 - val_loss: 1.2021 - val_accuracy: 0.6819\n"
     ]
    }
   ],
   "source": [
    "model.compile(optimizer=\"adam\", loss=\"sparse_categorical_crossentropy\", metrics=[\"accuracy\"])\n",
    "r = model.fit(X_train, y_train, validation_data=(X_test, y_test), epochs=10)"
   ]
  },
  {
   "cell_type": "code",
   "execution_count": 16,
   "metadata": {},
   "outputs": [
    {
     "data": {
      "text/plain": [
       "<matplotlib.legend.Legend at 0x154d3d4f0>"
      ]
     },
     "execution_count": 16,
     "metadata": {},
     "output_type": "execute_result"
    },
    {
     "data": {
      "image/png": "[encoded data removed]",
      "text/plain": [
       "<Figure size 432x288 with 1 Axes>"
      ]
     },
     "metadata": {
      "needs_background": "light"
     },
     "output_type": "display_data"
    }
   ],
   "source": [
    "import matplotlib.pyplot as plt\n",
    "\n",
    "plt.plot(r.history[\"accuracy\"], label=\"Accuracy\")\n",
    "plt.plot(r.history[\"val_accuracy\"], label=\"Val. Accuracy\")\n",
    "plt.xlabel(\"No. of epochs\")\n",
    "plt.ylabel(\"Accuracy\")\n",
    "plt.legend()"
   ]
  },
  {
   "cell_type": "code",
   "execution_count": 17,
   "metadata": {},
   "outputs": [
    {
     "data": {
      "text/plain": [
       "<matplotlib.legend.Legend at 0x156959eb0>"
      ]
     },
     "execution_count": 17,
     "metadata": {},
     "output_type": "execute_result"
    },
    {
     "data": {
      "image/png": "[encoded data removed]",
      "text/plain": [
       "<Figure size 432x288 with 1 Axes>"
      ]
     },
     "metadata": {
      "needs_background": "light"
     },
     "output_type": "display_data"
    }
   ],
   "source": [
    "import matplotlib.pyplot as plt\n",
    "\n",
    "plt.plot(r.history[\"loss\"], label=\"Loss\")\n",
    "plt.plot(r.history[\"val_loss\"], label=\"Val. Loss\")\n",
    "plt.xlabel(\"No. of epochs\")\n",
    "plt.ylabel(\"Accuracy\")\n",
    "plt.legend()"
   ]
  },
  {
   "cell_type": "code",
   "execution_count": null,
   "metadata": {},
   "outputs": [],
   "source": []
  }
 ],
 "metadata": {
  "kernelspec": {
   "display_name": "Python 3",
   "language": "python",
   "name": "python3"
  },
  "language_info": {
   "codemirror_mode": {
    "name": "ipython",
    "version": 3
   },
   "file_extension": ".py",
   "mimetype": "text/x-python",
   "name": "python",
   "nbconvert_exporter": "python",
   "pygments_lexer": "ipython3",
   "version": "3.8.1"
  }
 },
 "nbformat": 4,
 "nbformat_minor": 4
}
